{
 "cells": [
  {
   "cell_type": "code",
   "execution_count": 1,
   "metadata": {},
   "outputs": [
    {
     "ename": "NameError",
     "evalue": "name 'pwr' is not defined",
     "output_type": "error",
     "traceback": [
      "\u001b[1;31m---------------------------------------------------------------------------\u001b[0m",
      "\u001b[1;31mNameError\u001b[0m                                 Traceback (most recent call last)",
      "\u001b[1;32m<ipython-input-1-d8cd7aca6bf0>\u001b[0m in \u001b[0;36m<module>\u001b[1;34m\u001b[0m\n\u001b[1;32m----> 1\u001b[1;33m \u001b[0mpwr\u001b[0m\u001b[1;33m\u001b[0m\u001b[1;33m\u001b[0m\u001b[0m\n\u001b[0m",
      "\u001b[1;31mNameError\u001b[0m: name 'pwr' is not defined"
     ]
    }
   ],
   "source": [
    "pwr"
   ]
  },
  {
   "cell_type": "code",
   "execution_count": 2,
   "metadata": {},
   "outputs": [
    {
     "data": {
      "text/plain": [
       "<function dir>"
      ]
     },
     "execution_count": 2,
     "metadata": {},
     "output_type": "execute_result"
    }
   ],
   "source": [
    "dir"
   ]
  },
  {
   "cell_type": "code",
   "execution_count": 3,
   "metadata": {},
   "outputs": [
    {
     "name": "stdout",
     "output_type": "stream",
     "text": [
      " Volume in drive C is Windows\n",
      " Volume Serial Number is 30B8-EA8B\n",
      "\n",
      " Directory of C:\\Users\\alvar\\DAT-10-19\\ClassMaterial\n",
      "\n",
      "11/11/2020  09:56 PM    <DIR>          .\n",
      "11/11/2020  09:56 PM    <DIR>          ..\n",
      "11/09/2020  06:04 PM             6,148 .DS_Store\n",
      "11/11/2020  09:56 PM    <DIR>          .ipynb_checkpoints\n",
      "11/09/2020  06:04 PM    <DIR>          Bonus Notebooks\n",
      "11/02/2020  06:03 PM    <DIR>          Class2\n",
      "11/02/2020  06:03 PM    <DIR>          Class3\n",
      "11/09/2020  06:04 PM    <DIR>          Class4\n",
      "11/02/2020  06:03 PM    <DIR>          Unit1\n",
      "11/09/2020  06:04 PM    <DIR>          Unit2\n",
      "11/11/2020  09:56 PM                72 Untitled.ipynb\n",
      "               2 File(s)          6,220 bytes\n",
      "               9 Dir(s)  417,524,695,040 bytes free\n"
     ]
    }
   ],
   "source": [
    "ls"
   ]
  },
  {
   "cell_type": "code",
   "execution_count": 4,
   "metadata": {},
   "outputs": [
    {
     "ename": "SyntaxError",
     "evalue": "invalid syntax (<ipython-input-4-3d80792ead7e>, line 1)",
     "output_type": "error",
     "traceback": [
      "\u001b[1;36m  File \u001b[1;32m\"<ipython-input-4-3d80792ead7e>\"\u001b[1;36m, line \u001b[1;32m1\u001b[0m\n\u001b[1;33m    ..\u001b[0m\n\u001b[1;37m    ^\u001b[0m\n\u001b[1;31mSyntaxError\u001b[0m\u001b[1;31m:\u001b[0m invalid syntax\n"
     ]
    }
   ],
   "source": [
    ".."
   ]
  },
  {
   "cell_type": "code",
   "execution_count": 5,
   "metadata": {},
   "outputs": [
    {
     "ename": "SyntaxError",
     "evalue": "invalid syntax (<ipython-input-5-d6c65a1e1ff4>, line 1)",
     "output_type": "error",
     "traceback": [
      "\u001b[1;36m  File \u001b[1;32m\"<ipython-input-5-d6c65a1e1ff4>\"\u001b[1;36m, line \u001b[1;32m1\u001b[0m\n\u001b[1;33m    cd..\u001b[0m\n\u001b[1;37m       ^\u001b[0m\n\u001b[1;31mSyntaxError\u001b[0m\u001b[1;31m:\u001b[0m invalid syntax\n"
     ]
    }
   ],
   "source": [
    "cd.."
   ]
  },
  {
   "cell_type": "code",
   "execution_count": 6,
   "metadata": {},
   "outputs": [
    {
     "name": "stdout",
     "output_type": "stream",
     "text": [
      "C:\\Users\\alvar\\DAT-10-19\n"
     ]
    }
   ],
   "source": [
    "cd .."
   ]
  },
  {
   "cell_type": "code",
   "execution_count": 7,
   "metadata": {},
   "outputs": [
    {
     "name": "stdout",
     "output_type": "stream",
     "text": [
      "C:\\Users\\alvar\n"
     ]
    }
   ],
   "source": [
    "cd .."
   ]
  },
  {
   "cell_type": "code",
   "execution_count": 8,
   "metadata": {},
   "outputs": [
    {
     "name": "stdout",
     "output_type": "stream",
     "text": [
      "C:\\Users\\alvar\\mydat1019\n"
     ]
    }
   ],
   "source": [
    "cd mydat1019"
   ]
  },
  {
   "cell_type": "code",
   "execution_count": 9,
   "metadata": {},
   "outputs": [
    {
     "name": "stdout",
     "output_type": "stream",
     "text": [
      " Volume in drive C is Windows\n",
      " Volume Serial Number is 30B8-EA8B\n",
      "\n",
      " Directory of C:\\Users\\alvar\\mydat1019\n",
      "\n",
      "11/10/2020  04:59 PM    <DIR>          .\n",
      "11/10/2020  04:59 PM    <DIR>          ..\n",
      "11/09/2020  06:04 PM             8,196 .DS_Store\n",
      "11/04/2020  06:02 PM             1,973 .gitignore\n",
      "11/10/2020  04:59 PM    <DIR>          ClassMaterial\n",
      "10/26/2020  02:11 PM           201,811 dat-class-syllabus.pdf\n",
      "10/28/2020  04:49 PM           159,535 Git Overview.pdf\n",
      "11/10/2020  08:45 PM    <DIR>          Homework\n",
      "10/28/2020  04:49 PM                40 README.md\n",
      "               5 File(s)        371,555 bytes\n",
      "               4 Dir(s)  417,510,883,328 bytes free\n"
     ]
    }
   ],
   "source": [
    "ls"
   ]
  },
  {
   "cell_type": "code",
   "execution_count": 10,
   "metadata": {},
   "outputs": [
    {
     "name": "stdout",
     "output_type": "stream",
     "text": [
      "C:\\Users\\alvar\\mydat1019\\homework\n"
     ]
    }
   ],
   "source": [
    "cd homework"
   ]
  },
  {
   "cell_type": "code",
   "execution_count": 11,
   "metadata": {},
   "outputs": [
    {
     "name": "stdout",
     "output_type": "stream",
     "text": [
      " Volume in drive C is Windows\n",
      " Volume Serial Number is 30B8-EA8B\n",
      "\n",
      " Directory of C:\\Users\\alvar\\mydat1019\\homework\n",
      "\n",
      "11/10/2020  08:45 PM    <DIR>          .\n",
      "11/10/2020  08:45 PM    <DIR>          ..\n",
      "11/10/2020  08:07 PM    <DIR>          .ipynb_checkpoints\n",
      "10/19/2020  08:14 PM                15 sample.txt\n",
      "11/10/2020  08:52 PM    <DIR>          Unit1\n",
      "11/10/2020  09:38 PM    <DIR>          Unit2\n",
      "11/10/2020  08:45 PM             9,288 Untitled.ipynb\n",
      "               2 File(s)          9,303 bytes\n",
      "               5 Dir(s)  417,507,561,472 bytes free\n"
     ]
    }
   ],
   "source": [
    "ls"
   ]
  },
  {
   "cell_type": "code",
   "execution_count": 12,
   "metadata": {},
   "outputs": [
    {
     "name": "stdout",
     "output_type": "stream",
     "text": [
      "C:\\Users\\alvar\\mydat1019\\homework\\unit2\n"
     ]
    }
   ],
   "source": [
    "cd unit2"
   ]
  },
  {
   "cell_type": "code",
   "execution_count": 13,
   "metadata": {},
   "outputs": [
    {
     "name": "stdout",
     "output_type": "stream",
     "text": [
      " Volume in drive C is Windows\n",
      " Volume Serial Number is 30B8-EA8B\n",
      "\n",
      " Directory of C:\\Users\\alvar\\mydat1019\\homework\\unit2\n",
      "\n",
      "11/10/2020  09:38 PM    <DIR>          .\n",
      "11/10/2020  09:38 PM    <DIR>          ..\n",
      "11/10/2020  09:38 PM    <DIR>          .ipynb_checkpoints\n",
      "11/10/2020  04:59 PM    <DIR>          data\n",
      "11/10/2020  09:38 PM             7,535 project-eda-chipotle.ipynb\n",
      "11/09/2020  09:08 PM            26,364 project-eda-downcasting-streaming.ipynb\n",
      "11/09/2020  09:08 PM           155,723 project-eda-imdb-solutions.ipynb\n",
      "               3 File(s)        189,622 bytes\n",
      "               4 Dir(s)  417,506,091,008 bytes free\n"
     ]
    }
   ],
   "source": [
    "ls"
   ]
  },
  {
   "cell_type": "code",
   "execution_count": 14,
   "metadata": {},
   "outputs": [
    {
     "name": "stdout",
     "output_type": "stream",
     "text": [
      "C:\\Users\\alvar\\mydat1019\\homework\\unit2\\data\n"
     ]
    }
   ],
   "source": [
    "cd data"
   ]
  },
  {
   "cell_type": "code",
   "execution_count": 15,
   "metadata": {},
   "outputs": [
    {
     "name": "stdout",
     "output_type": "stream",
     "text": [
      " Volume in drive C is Windows\n",
      " Volume Serial Number is 30B8-EA8B\n",
      "\n",
      " Directory of C:\\Users\\alvar\\mydat1019\\homework\\unit2\\data\n",
      "\n",
      "11/10/2020  04:59 PM    <DIR>          .\n",
      "11/10/2020  04:59 PM    <DIR>          ..\n",
      "11/09/2020  09:08 PM           369,598 chipotle.tsv\n",
      "11/09/2020  09:08 PM            14,259 grouping example.ipynb\n",
      "11/09/2020  09:08 PM            92,479 imdb_1000.csv\n",
      "11/09/2020  09:08 PM        96,248,762 taxi.csv\n",
      "11/09/2020  09:08 PM            61,194 titanic.csv\n",
      "               5 File(s)     96,786,292 bytes\n",
      "               2 Dir(s)  417,505,169,408 bytes free\n"
     ]
    }
   ],
   "source": [
    "ls"
   ]
  },
  {
   "cell_type": "code",
   "execution_count": null,
   "metadata": {},
   "outputs": [],
   "source": []
  }
 ],
 "metadata": {
  "kernelspec": {
   "display_name": "Python 3",
   "language": "python",
   "name": "python3"
  },
  "language_info": {
   "codemirror_mode": {
    "name": "ipython",
    "version": 3
   },
   "file_extension": ".py",
   "mimetype": "text/x-python",
   "name": "python",
   "nbconvert_exporter": "python",
   "pygments_lexer": "ipython3",
   "version": "3.7.6"
  }
 },
 "nbformat": 4,
 "nbformat_minor": 4
}
